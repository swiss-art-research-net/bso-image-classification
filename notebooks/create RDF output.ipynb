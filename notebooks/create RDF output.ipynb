{
 "cells": [
  {
   "cell_type": "code",
   "execution_count": 1,
   "metadata": {},
   "outputs": [],
   "source": [
    "import csv\n",
    "import uuid\n",
    "import datetime\n",
    "from string import Template"
   ]
  },
  {
   "cell_type": "code",
   "execution_count": 2,
   "metadata": {},
   "outputs": [],
   "source": [
    "inputCSVfile = '../output/predictions.csv'\n",
    "outputTrigFile = '../output/classifications.trig'\n",
    "outputGraph = 'http://resource.swissartresearch.net/graph/classifications'\n",
    "dateTime = datetime.datetime.now()\n",
    "addTimestampToGraph = True"
   ]
  },
  {
   "cell_type": "code",
   "execution_count": 3,
   "metadata": {},
   "outputs": [],
   "source": [
    "if addTimestampToGraph:\n",
    "    outputGraph = outputGraph + '-' + dateTime.strftime(\"%Y-%m-%d-%H-%M-%S\")"
   ]
  },
  {
   "cell_type": "code",
   "execution_count": 4,
   "metadata": {},
   "outputs": [],
   "source": [
    "data = []\n",
    "with open(inputCSVfile, 'r') as f:\n",
    "    reader = csv.DictReader(f)\n",
    "    for row in reader:\n",
    "        data.append(row)"
   ]
  },
  {
   "cell_type": "code",
   "execution_count": 5,
   "metadata": {},
   "outputs": [],
   "source": [
    "# Debug\n",
    "#data = data[:10]"
   ]
  },
  {
   "cell_type": "code",
   "execution_count": 6,
   "metadata": {},
   "outputs": [],
   "source": [
    "namespaces = \"\"\"\n",
    "@prefix crm: <http://www.cidoc-crm.org/cidoc-crm/>.\n",
    "@prefix rdf: <http://www.w3.org/1999/02/22-rdf-syntax-ns#>.\n",
    "@prefix rdfs: <http://www.w3.org/2000/01/rdf-schema#>.\n",
    "@prefix xsd: <http://www.w3.org/2001/XMLSchema#>.\n",
    "\"\"\"\n"
   ]
  },
  {
   "cell_type": "code",
   "execution_count": 7,
   "metadata": {},
   "outputs": [],
   "source": [
    "output = namespaces"
   ]
  },
  {
   "cell_type": "code",
   "execution_count": 8,
   "metadata": {},
   "outputs": [],
   "source": [
    "typeTemplate = Template(\"\"\"\n",
    "    <$graph> {\n",
    "        <$assignedType> a crm:E55_Type ;\n",
    "            rdfs:label \"$label\" .\n",
    "    }\n",
    "\"\"\")\n",
    "for prediction in set([d['prediction'] for d in data]):\n",
    "    typeUri = 'https://resource.swissartresearch.net/type/classification/' + prediction.replace(' ','')\n",
    "    output += typeTemplate.substitute(graph=outputGraph,\n",
    "                                     assignedType=typeUri,\n",
    "                                     label=prediction)"
   ]
  },
  {
   "cell_type": "code",
   "execution_count": 9,
   "metadata": {},
   "outputs": [],
   "source": [
    "technique = 'https://github.com/swiss-art-research-net/bso-image-classification/blob/583c8891df9739723f81dfc1ac127b06e411ec34/models/model.pkl'\n",
    "\n",
    "classificationTemplate = Template(\"\"\"\n",
    "    <$graph> {\n",
    "    \n",
    "        <$classification> a crm:E13_Attribute_Assignment ;\n",
    "            crm:P140_assigned_attribute_to <$subject> ;\n",
    "            crm:P141_assigned <$assignedType> ;\n",
    "            crm:P4_has_time-span <$classification/date> ;\n",
    "            crm:P33_used_specific_technique <$technique> ;\n",
    "            rdf:value \"$confidence\"^^xsd:float .\n",
    "            \n",
    "        <$classification/date> a crm:E52_Time-Span ;\n",
    "            crm:P82_at_some_time_within \"$dateTime\"^^xsd:dateTime .\n",
    "    }\n",
    "\"\"\")\n",
    "\n",
    "for row in data:\n",
    "    classificationUri = 'https://resource.swissartresearch.net/classification/' + str(uuid.uuid4())\n",
    "    subjectUri = 'https://resource.swissartresearch.net/artwork/' + row['id']\n",
    "    typeUri = 'https://resource.swissartresearch.net/type/classification/' + row['prediction'].replace(' ','')\n",
    "    output += classificationTemplate.substitute(graph=outputGraph, \n",
    "                                  classification=classificationUri, \n",
    "                                  subject=subjectUri, \n",
    "                                  assignedType=typeUri,\n",
    "                                  technique=technique,\n",
    "                                  confidence=row['confidence'],\n",
    "                                  dateTime=dateTime.strftime(\"%Y-%m-%dT%H:%M:%S\"))"
   ]
  },
  {
   "cell_type": "code",
   "execution_count": 10,
   "metadata": {},
   "outputs": [],
   "source": [
    "with open(outputTrigFile, 'w') as f:\n",
    "    f.write(output)"
   ]
  }
 ],
 "metadata": {
  "kernelspec": {
   "display_name": "Python 3",
   "language": "python",
   "name": "python3"
  },
  "language_info": {
   "codemirror_mode": {
    "name": "ipython",
    "version": 3
   },
   "file_extension": ".py",
   "mimetype": "text/x-python",
   "name": "python",
   "nbconvert_exporter": "python",
   "pygments_lexer": "ipython3",
   "version": "3.7.3"
  }
 },
 "nbformat": 4,
 "nbformat_minor": 2
}
