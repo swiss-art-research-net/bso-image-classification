{
 "cells": [
  {
   "cell_type": "code",
   "execution_count": 3,
   "metadata": {},
   "outputs": [
    {
     "name": "stdout",
     "output_type": "stream",
     "text": [
      "Collecting pigeon-jupyter\n",
      "  Downloading https://files.pythonhosted.org/packages/d1/c7/0a19ff2f31d242804e6f521c35b388475766565503b318e0462b2a4b6731/pigeon-jupyter-0.1.0.tar.gz\n",
      "Requirement already satisfied: ipywidgets in /Users/fkraeutli/anaconda3/lib/python3.7/site-packages (from pigeon-jupyter) (7.5.0)\n",
      "Requirement already satisfied: nbformat>=4.2.0 in /Users/fkraeutli/anaconda3/lib/python3.7/site-packages (from ipywidgets->pigeon-jupyter) (4.4.0)\n",
      "Requirement already satisfied: ipython>=4.0.0; python_version >= \"3.3\" in /Users/fkraeutli/anaconda3/lib/python3.7/site-packages (from ipywidgets->pigeon-jupyter) (7.6.1)\n",
      "Requirement already satisfied: ipykernel>=4.5.1 in /Users/fkraeutli/anaconda3/lib/python3.7/site-packages (from ipywidgets->pigeon-jupyter) (5.1.1)\n",
      "Requirement already satisfied: traitlets>=4.3.1 in /Users/fkraeutli/anaconda3/lib/python3.7/site-packages (from ipywidgets->pigeon-jupyter) (4.3.2)\n",
      "Requirement already satisfied: widgetsnbextension~=3.5.0 in /Users/fkraeutli/anaconda3/lib/python3.7/site-packages (from ipywidgets->pigeon-jupyter) (3.5.0)\n",
      "Requirement already satisfied: ipython-genutils in /Users/fkraeutli/anaconda3/lib/python3.7/site-packages (from nbformat>=4.2.0->ipywidgets->pigeon-jupyter) (0.2.0)\n",
      "Requirement already satisfied: jupyter-core in /Users/fkraeutli/anaconda3/lib/python3.7/site-packages (from nbformat>=4.2.0->ipywidgets->pigeon-jupyter) (4.5.0)\n",
      "Requirement already satisfied: jsonschema!=2.5.0,>=2.4 in /Users/fkraeutli/anaconda3/lib/python3.7/site-packages (from nbformat>=4.2.0->ipywidgets->pigeon-jupyter) (3.0.1)\n",
      "Requirement already satisfied: backcall in /Users/fkraeutli/anaconda3/lib/python3.7/site-packages (from ipython>=4.0.0; python_version >= \"3.3\"->ipywidgets->pigeon-jupyter) (0.1.0)\n",
      "Requirement already satisfied: pickleshare in /Users/fkraeutli/anaconda3/lib/python3.7/site-packages (from ipython>=4.0.0; python_version >= \"3.3\"->ipywidgets->pigeon-jupyter) (0.7.5)\n",
      "Requirement already satisfied: setuptools>=18.5 in /Users/fkraeutli/anaconda3/lib/python3.7/site-packages (from ipython>=4.0.0; python_version >= \"3.3\"->ipywidgets->pigeon-jupyter) (41.0.1)\n",
      "Requirement already satisfied: decorator in /Users/fkraeutli/anaconda3/lib/python3.7/site-packages (from ipython>=4.0.0; python_version >= \"3.3\"->ipywidgets->pigeon-jupyter) (4.4.0)\n",
      "Requirement already satisfied: prompt-toolkit<2.1.0,>=2.0.0 in /Users/fkraeutli/anaconda3/lib/python3.7/site-packages (from ipython>=4.0.0; python_version >= \"3.3\"->ipywidgets->pigeon-jupyter) (2.0.9)\n",
      "Requirement already satisfied: pygments in /Users/fkraeutli/anaconda3/lib/python3.7/site-packages (from ipython>=4.0.0; python_version >= \"3.3\"->ipywidgets->pigeon-jupyter) (2.4.2)\n",
      "Requirement already satisfied: appnope; sys_platform == \"darwin\" in /Users/fkraeutli/anaconda3/lib/python3.7/site-packages (from ipython>=4.0.0; python_version >= \"3.3\"->ipywidgets->pigeon-jupyter) (0.1.0)\n",
      "Requirement already satisfied: jedi>=0.10 in /Users/fkraeutli/anaconda3/lib/python3.7/site-packages (from ipython>=4.0.0; python_version >= \"3.3\"->ipywidgets->pigeon-jupyter) (0.13.3)\n",
      "Requirement already satisfied: pexpect; sys_platform != \"win32\" in /Users/fkraeutli/anaconda3/lib/python3.7/site-packages (from ipython>=4.0.0; python_version >= \"3.3\"->ipywidgets->pigeon-jupyter) (4.7.0)\n",
      "Requirement already satisfied: jupyter-client in /Users/fkraeutli/anaconda3/lib/python3.7/site-packages (from ipykernel>=4.5.1->ipywidgets->pigeon-jupyter) (5.3.1)\n",
      "Requirement already satisfied: tornado>=4.2 in /Users/fkraeutli/anaconda3/lib/python3.7/site-packages (from ipykernel>=4.5.1->ipywidgets->pigeon-jupyter) (6.0.3)\n",
      "Requirement already satisfied: six in /Users/fkraeutli/anaconda3/lib/python3.7/site-packages (from traitlets>=4.3.1->ipywidgets->pigeon-jupyter) (1.15.0)\n",
      "Requirement already satisfied: notebook>=4.4.1 in /Users/fkraeutli/anaconda3/lib/python3.7/site-packages (from widgetsnbextension~=3.5.0->ipywidgets->pigeon-jupyter) (6.0.0)\n",
      "Requirement already satisfied: attrs>=17.4.0 in /Users/fkraeutli/anaconda3/lib/python3.7/site-packages (from jsonschema!=2.5.0,>=2.4->nbformat>=4.2.0->ipywidgets->pigeon-jupyter) (19.1.0)\n",
      "Requirement already satisfied: pyrsistent>=0.14.0 in /Users/fkraeutli/anaconda3/lib/python3.7/site-packages (from jsonschema!=2.5.0,>=2.4->nbformat>=4.2.0->ipywidgets->pigeon-jupyter) (0.14.11)\n",
      "Requirement already satisfied: wcwidth in /Users/fkraeutli/anaconda3/lib/python3.7/site-packages (from prompt-toolkit<2.1.0,>=2.0.0->ipython>=4.0.0; python_version >= \"3.3\"->ipywidgets->pigeon-jupyter) (0.1.7)\n",
      "Requirement already satisfied: parso>=0.3.0 in /Users/fkraeutli/anaconda3/lib/python3.7/site-packages (from jedi>=0.10->ipython>=4.0.0; python_version >= \"3.3\"->ipywidgets->pigeon-jupyter) (0.5.0)\n",
      "Requirement already satisfied: ptyprocess>=0.5 in /Users/fkraeutli/anaconda3/lib/python3.7/site-packages (from pexpect; sys_platform != \"win32\"->ipython>=4.0.0; python_version >= \"3.3\"->ipywidgets->pigeon-jupyter) (0.6.0)\n",
      "Requirement already satisfied: pyzmq>=13 in /Users/fkraeutli/anaconda3/lib/python3.7/site-packages (from jupyter-client->ipykernel>=4.5.1->ipywidgets->pigeon-jupyter) (18.0.0)\n",
      "Requirement already satisfied: python-dateutil>=2.1 in /Users/fkraeutli/anaconda3/lib/python3.7/site-packages (from jupyter-client->ipykernel>=4.5.1->ipywidgets->pigeon-jupyter) (2.8.0)\n",
      "Requirement already satisfied: Send2Trash in /Users/fkraeutli/anaconda3/lib/python3.7/site-packages (from notebook>=4.4.1->widgetsnbextension~=3.5.0->ipywidgets->pigeon-jupyter) (1.5.0)\n",
      "Requirement already satisfied: prometheus-client in /Users/fkraeutli/anaconda3/lib/python3.7/site-packages (from notebook>=4.4.1->widgetsnbextension~=3.5.0->ipywidgets->pigeon-jupyter) (0.7.1)\n",
      "Requirement already satisfied: nbconvert in /Users/fkraeutli/anaconda3/lib/python3.7/site-packages (from notebook>=4.4.1->widgetsnbextension~=3.5.0->ipywidgets->pigeon-jupyter) (5.5.0)\n",
      "Requirement already satisfied: jinja2 in /Users/fkraeutli/anaconda3/lib/python3.7/site-packages (from notebook>=4.4.1->widgetsnbextension~=3.5.0->ipywidgets->pigeon-jupyter) (2.10.1)\n",
      "Requirement already satisfied: terminado>=0.8.1 in /Users/fkraeutli/anaconda3/lib/python3.7/site-packages (from notebook>=4.4.1->widgetsnbextension~=3.5.0->ipywidgets->pigeon-jupyter) (0.8.2)\n",
      "Requirement already satisfied: pandocfilters>=1.4.1 in /Users/fkraeutli/anaconda3/lib/python3.7/site-packages (from nbconvert->notebook>=4.4.1->widgetsnbextension~=3.5.0->ipywidgets->pigeon-jupyter) (1.4.2)\n",
      "Requirement already satisfied: defusedxml in /Users/fkraeutli/anaconda3/lib/python3.7/site-packages (from nbconvert->notebook>=4.4.1->widgetsnbextension~=3.5.0->ipywidgets->pigeon-jupyter) (0.6.0)\n",
      "Requirement already satisfied: entrypoints>=0.2.2 in /Users/fkraeutli/anaconda3/lib/python3.7/site-packages (from nbconvert->notebook>=4.4.1->widgetsnbextension~=3.5.0->ipywidgets->pigeon-jupyter) (0.3)\n",
      "Requirement already satisfied: mistune>=0.8.1 in /Users/fkraeutli/anaconda3/lib/python3.7/site-packages (from nbconvert->notebook>=4.4.1->widgetsnbextension~=3.5.0->ipywidgets->pigeon-jupyter) (0.8.4)\n",
      "Requirement already satisfied: bleach in /Users/fkraeutli/anaconda3/lib/python3.7/site-packages (from nbconvert->notebook>=4.4.1->widgetsnbextension~=3.5.0->ipywidgets->pigeon-jupyter) (3.1.0)\n",
      "Requirement already satisfied: testpath in /Users/fkraeutli/anaconda3/lib/python3.7/site-packages (from nbconvert->notebook>=4.4.1->widgetsnbextension~=3.5.0->ipywidgets->pigeon-jupyter) (0.4.2)\n",
      "Requirement already satisfied: MarkupSafe>=0.23 in /Users/fkraeutli/anaconda3/lib/python3.7/site-packages (from jinja2->notebook>=4.4.1->widgetsnbextension~=3.5.0->ipywidgets->pigeon-jupyter) (1.1.1)\n",
      "Requirement already satisfied: webencodings in /Users/fkraeutli/anaconda3/lib/python3.7/site-packages (from bleach->nbconvert->notebook>=4.4.1->widgetsnbextension~=3.5.0->ipywidgets->pigeon-jupyter) (0.5.1)\n",
      "Building wheels for collected packages: pigeon-jupyter\n",
      "  Building wheel for pigeon-jupyter (setup.py) ... \u001b[?25ldone\n",
      "\u001b[?25h  Stored in directory: /Users/fkraeutli/Library/Caches/pip/wheels/9c/e1/74/712f424efed3467a38edd654aedaad8e303e254a5a0fdbed49\n",
      "Successfully built pigeon-jupyter\n",
      "Installing collected packages: pigeon-jupyter\n",
      "Successfully installed pigeon-jupyter-0.1.0\n"
     ]
    }
   ],
   "source": [
    "import sys\n",
    "!{sys.executable} -m pip install pigeon-jupyter"
   ]
  },
  {
   "cell_type": "code",
   "execution_count": 15,
   "metadata": {},
   "outputs": [],
   "source": [
    "from pigeon import annotate\n",
    "from IPython.display import display, Image\n",
    "from os import listdir\n",
    "from os.path import isfile, join\n",
    "from sklearn.model_selection import train_test_split"
   ]
  },
  {
   "cell_type": "code",
   "execution_count": 18,
   "metadata": {},
   "outputs": [],
   "source": [
    "imageDir = '../images/'\n",
    "outputFile = './imageAnnotations.csv'"
   ]
  },
  {
   "cell_type": "code",
   "execution_count": 11,
   "metadata": {},
   "outputs": [],
   "source": [
    "imageFiles = [imageDir + f for f in listdir(imageDir) if isfile(join(imageDir, f))]"
   ]
  },
  {
   "cell_type": "code",
   "execution_count": 12,
   "metadata": {},
   "outputs": [
    {
     "data": {
      "text/plain": [
       "['../images/nb-1164570.jpg',\n",
       " '../images/zbz-011153816.jpg',\n",
       " '../images/zbz-010413446.jpg',\n",
       " '../images/zbz-010794591.jpg',\n",
       " '../images/zbz-010415037.jpg',\n",
       " '../images/zbz-010200107.jpg',\n",
       " '../images/zbz-010964247.jpg',\n",
       " '../images/nb-481809.jpg',\n",
       " '../images/zbz-010919284.jpg',\n",
       " '../images/nb-477621.jpg']"
      ]
     },
     "execution_count": 12,
     "metadata": {},
     "output_type": "execute_result"
    }
   ],
   "source": [
    "imageFiles[:10]"
   ]
  },
  {
   "cell_type": "code",
   "execution_count": 16,
   "metadata": {
    "scrolled": false
   },
   "outputs": [
    {
     "data": {
      "application/vnd.jupyter.widget-view+json": {
       "model_id": "6913b6195ea84dfa998910b8db15252a",
       "version_major": 2,
       "version_minor": 0
      },
      "text/plain": [
       "HTML(value='0 examples annotated, 26781 examples left')"
      ]
     },
     "metadata": {},
     "output_type": "display_data"
    },
    {
     "data": {
      "application/vnd.jupyter.widget-view+json": {
       "model_id": "08e393e0f7114a1eb2fb434501951777",
       "version_major": 2,
       "version_minor": 0
      },
      "text/plain": [
       "HBox(children=(Button(description='landscape', style=ButtonStyle()), Button(description='not landscape', style…"
      ]
     },
     "metadata": {},
     "output_type": "display_data"
    },
    {
     "data": {
      "application/vnd.jupyter.widget-view+json": {
       "model_id": "fd2452c279fb4c1c8464a59fd9336798",
       "version_major": 2,
       "version_minor": 0
      },
      "text/plain": [
       "Output()"
      ]
     },
     "metadata": {},
     "output_type": "display_data"
    }
   ],
   "source": [
    "annotations = annotate(\n",
    "  imageFiles,\n",
    "  options=['landscape', 'not landscape'],\n",
    "  display_fn=lambda filename: display(Image(filename))\n",
    ")"
   ]
  },
  {
   "cell_type": "code",
   "execution_count": 26,
   "metadata": {},
   "outputs": [
    {
     "data": {
      "text/plain": [
       "463"
      ]
     },
     "execution_count": 26,
     "metadata": {},
     "output_type": "execute_result"
    }
   ],
   "source": [
    "len(annotations)\n",
    "len([d for d in annotations if d[1] == 'landscape'])"
   ]
  },
  {
   "cell_type": "code",
   "execution_count": 30,
   "metadata": {},
   "outputs": [],
   "source": [
    "import csv\n",
    "with open(outputFile, 'w') as f:\n",
    "    csvWriter = csv.writer(f, delimiter=',')\n",
    "    for row in annotations:\n",
    "        csvWriter.writerow(row)"
   ]
  },
  {
   "cell_type": "code",
   "execution_count": 29,
   "metadata": {},
   "outputs": [
    {
     "data": {
      "text/plain": [
       "('../images/zbz-010809241.jpg', 'landscape')"
      ]
     },
     "execution_count": 29,
     "metadata": {},
     "output_type": "execute_result"
    }
   ],
   "source": [
    "annotations[-1]"
   ]
  },
  {
   "cell_type": "code",
   "execution_count": 35,
   "metadata": {},
   "outputs": [],
   "source": [
    "import shutil\n",
    "for row in annotations:\n",
    "    src = row[0]\n",
    "    dest = row[0].replace(imageDir, imageDir + row[1] + '/')\n",
    "    shutil.move(src, dest)"
   ]
  },
  {
   "cell_type": "code",
   "execution_count": null,
   "metadata": {},
   "outputs": [],
   "source": []
  }
 ],
 "metadata": {
  "kernelspec": {
   "display_name": "Python 3",
   "language": "python",
   "name": "python3"
  },
  "language_info": {
   "codemirror_mode": {
    "name": "ipython",
    "version": 3
   },
   "file_extension": ".py",
   "mimetype": "text/x-python",
   "name": "python",
   "nbconvert_exporter": "python",
   "pygments_lexer": "ipython3",
   "version": "3.7.3"
  }
 },
 "nbformat": 4,
 "nbformat_minor": 2
}
